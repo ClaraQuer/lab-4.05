{
 "cells": [
  {
   "cell_type": "markdown",
   "id": "ab677468",
   "metadata": {},
   "source": [
    "### Import the necessary libraries if you are starting a new notebook. Using the same data as the previous lab: we_fn_use_c_marketing_customer_value_analysis.csv"
   ]
  },
  {
   "cell_type": "code",
   "execution_count": 3,
   "id": "baceaeb5",
   "metadata": {},
   "outputs": [],
   "source": [
    "import pandas as pd\n",
    "import seaborn as sns\n",
    "import matplotlib.pyplot as plt\n",
    "import numpy as np\n",
    "from sklearn.neighbors import KNeighborsClassifier\n",
    "from sklearn.preprocessing import MinMaxScaler\n",
    "import re"
   ]
  },
  {
   "cell_type": "code",
   "execution_count": 4,
   "id": "7c662d7d",
   "metadata": {},
   "outputs": [
    {
     "data": {
      "text/html": [
       "<div>\n",
       "<style scoped>\n",
       "    .dataframe tbody tr th:only-of-type {\n",
       "        vertical-align: middle;\n",
       "    }\n",
       "\n",
       "    .dataframe tbody tr th {\n",
       "        vertical-align: top;\n",
       "    }\n",
       "\n",
       "    .dataframe thead th {\n",
       "        text-align: right;\n",
       "    }\n",
       "</style>\n",
       "<table border=\"1\" class=\"dataframe\">\n",
       "  <thead>\n",
       "    <tr style=\"text-align: right;\">\n",
       "      <th></th>\n",
       "      <th>customer</th>\n",
       "      <th>state</th>\n",
       "      <th>customer_lifetime_value</th>\n",
       "      <th>response</th>\n",
       "      <th>coverage</th>\n",
       "      <th>education</th>\n",
       "      <th>effective_to_date</th>\n",
       "      <th>employmentstatus</th>\n",
       "      <th>gender</th>\n",
       "      <th>income</th>\n",
       "      <th>...</th>\n",
       "      <th>months_since_policy_inception</th>\n",
       "      <th>number_of_open_complaints</th>\n",
       "      <th>number_of_policies</th>\n",
       "      <th>policy_type</th>\n",
       "      <th>policy</th>\n",
       "      <th>renew_offer_type</th>\n",
       "      <th>sales_channel</th>\n",
       "      <th>total_claim_amount</th>\n",
       "      <th>vehicle_class</th>\n",
       "      <th>vehicle_size</th>\n",
       "    </tr>\n",
       "  </thead>\n",
       "  <tbody>\n",
       "    <tr>\n",
       "      <th>0</th>\n",
       "      <td>BU79786</td>\n",
       "      <td>Washington</td>\n",
       "      <td>2763.519279</td>\n",
       "      <td>No</td>\n",
       "      <td>Basic</td>\n",
       "      <td>Bachelor</td>\n",
       "      <td>2/24/11</td>\n",
       "      <td>Employed</td>\n",
       "      <td>F</td>\n",
       "      <td>56274</td>\n",
       "      <td>...</td>\n",
       "      <td>5</td>\n",
       "      <td>0</td>\n",
       "      <td>1</td>\n",
       "      <td>Corporate Auto</td>\n",
       "      <td>Corporate L3</td>\n",
       "      <td>Offer1</td>\n",
       "      <td>Agent</td>\n",
       "      <td>384.811147</td>\n",
       "      <td>Two-Door Car</td>\n",
       "      <td>Medsize</td>\n",
       "    </tr>\n",
       "    <tr>\n",
       "      <th>1</th>\n",
       "      <td>QZ44356</td>\n",
       "      <td>Arizona</td>\n",
       "      <td>6979.535903</td>\n",
       "      <td>No</td>\n",
       "      <td>Extended</td>\n",
       "      <td>Bachelor</td>\n",
       "      <td>1/31/11</td>\n",
       "      <td>Unemployed</td>\n",
       "      <td>F</td>\n",
       "      <td>0</td>\n",
       "      <td>...</td>\n",
       "      <td>42</td>\n",
       "      <td>0</td>\n",
       "      <td>8</td>\n",
       "      <td>Personal Auto</td>\n",
       "      <td>Personal L3</td>\n",
       "      <td>Offer3</td>\n",
       "      <td>Agent</td>\n",
       "      <td>1131.464935</td>\n",
       "      <td>Four-Door Car</td>\n",
       "      <td>Medsize</td>\n",
       "    </tr>\n",
       "    <tr>\n",
       "      <th>2</th>\n",
       "      <td>AI49188</td>\n",
       "      <td>Nevada</td>\n",
       "      <td>12887.431650</td>\n",
       "      <td>No</td>\n",
       "      <td>Premium</td>\n",
       "      <td>Bachelor</td>\n",
       "      <td>2/19/11</td>\n",
       "      <td>Employed</td>\n",
       "      <td>F</td>\n",
       "      <td>48767</td>\n",
       "      <td>...</td>\n",
       "      <td>38</td>\n",
       "      <td>0</td>\n",
       "      <td>2</td>\n",
       "      <td>Personal Auto</td>\n",
       "      <td>Personal L3</td>\n",
       "      <td>Offer1</td>\n",
       "      <td>Agent</td>\n",
       "      <td>566.472247</td>\n",
       "      <td>Two-Door Car</td>\n",
       "      <td>Medsize</td>\n",
       "    </tr>\n",
       "    <tr>\n",
       "      <th>3</th>\n",
       "      <td>WW63253</td>\n",
       "      <td>California</td>\n",
       "      <td>7645.861827</td>\n",
       "      <td>No</td>\n",
       "      <td>Basic</td>\n",
       "      <td>Bachelor</td>\n",
       "      <td>1/20/11</td>\n",
       "      <td>Unemployed</td>\n",
       "      <td>M</td>\n",
       "      <td>0</td>\n",
       "      <td>...</td>\n",
       "      <td>65</td>\n",
       "      <td>0</td>\n",
       "      <td>7</td>\n",
       "      <td>Corporate Auto</td>\n",
       "      <td>Corporate L2</td>\n",
       "      <td>Offer1</td>\n",
       "      <td>Call Center</td>\n",
       "      <td>529.881344</td>\n",
       "      <td>SUV</td>\n",
       "      <td>Medsize</td>\n",
       "    </tr>\n",
       "    <tr>\n",
       "      <th>4</th>\n",
       "      <td>HB64268</td>\n",
       "      <td>Washington</td>\n",
       "      <td>2813.692575</td>\n",
       "      <td>No</td>\n",
       "      <td>Basic</td>\n",
       "      <td>Bachelor</td>\n",
       "      <td>2/3/11</td>\n",
       "      <td>Employed</td>\n",
       "      <td>M</td>\n",
       "      <td>43836</td>\n",
       "      <td>...</td>\n",
       "      <td>44</td>\n",
       "      <td>0</td>\n",
       "      <td>1</td>\n",
       "      <td>Personal Auto</td>\n",
       "      <td>Personal L1</td>\n",
       "      <td>Offer1</td>\n",
       "      <td>Agent</td>\n",
       "      <td>138.130879</td>\n",
       "      <td>Four-Door Car</td>\n",
       "      <td>Medsize</td>\n",
       "    </tr>\n",
       "  </tbody>\n",
       "</table>\n",
       "<p>5 rows × 24 columns</p>\n",
       "</div>"
      ],
      "text/plain": [
       "  customer       state  customer_lifetime_value response  coverage education  \\\n",
       "0  BU79786  Washington              2763.519279       No     Basic  Bachelor   \n",
       "1  QZ44356     Arizona              6979.535903       No  Extended  Bachelor   \n",
       "2  AI49188      Nevada             12887.431650       No   Premium  Bachelor   \n",
       "3  WW63253  California              7645.861827       No     Basic  Bachelor   \n",
       "4  HB64268  Washington              2813.692575       No     Basic  Bachelor   \n",
       "\n",
       "  effective_to_date employmentstatus gender  income  ...  \\\n",
       "0           2/24/11         Employed      F   56274  ...   \n",
       "1           1/31/11       Unemployed      F       0  ...   \n",
       "2           2/19/11         Employed      F   48767  ...   \n",
       "3           1/20/11       Unemployed      M       0  ...   \n",
       "4            2/3/11         Employed      M   43836  ...   \n",
       "\n",
       "  months_since_policy_inception number_of_open_complaints  number_of_policies  \\\n",
       "0                             5                         0                   1   \n",
       "1                            42                         0                   8   \n",
       "2                            38                         0                   2   \n",
       "3                            65                         0                   7   \n",
       "4                            44                         0                   1   \n",
       "\n",
       "      policy_type        policy  renew_offer_type  sales_channel  \\\n",
       "0  Corporate Auto  Corporate L3            Offer1          Agent   \n",
       "1   Personal Auto   Personal L3            Offer3          Agent   \n",
       "2   Personal Auto   Personal L3            Offer1          Agent   \n",
       "3  Corporate Auto  Corporate L2            Offer1    Call Center   \n",
       "4   Personal Auto   Personal L1            Offer1          Agent   \n",
       "\n",
       "  total_claim_amount  vehicle_class vehicle_size  \n",
       "0         384.811147   Two-Door Car      Medsize  \n",
       "1        1131.464935  Four-Door Car      Medsize  \n",
       "2         566.472247   Two-Door Car      Medsize  \n",
       "3         529.881344            SUV      Medsize  \n",
       "4         138.130879  Four-Door Car      Medsize  \n",
       "\n",
       "[5 rows x 24 columns]"
      ]
     },
     "execution_count": 4,
     "metadata": {},
     "output_type": "execute_result"
    }
   ],
   "source": [
    "customer_df = pd.read_csv('..\\\\lab-4.02\\\\files_for_lab\\\\we_fn_use_c_marketing_customer_value_analysis.csv')\n",
    "customer_df.columns = [i.lower().replace(' ', '_') for i in customer_df.columns]\n",
    "customer_df.head()"
   ]
  },
  {
   "cell_type": "code",
   "execution_count": 5,
   "id": "fa8d14cf",
   "metadata": {},
   "outputs": [],
   "source": [
    "customer_df_num = customer_df.select_dtypes(np.number)"
   ]
  },
  {
   "cell_type": "code",
   "execution_count": 6,
   "id": "244d3d91",
   "metadata": {},
   "outputs": [],
   "source": [
    "def continuous(df):\n",
    "\n",
    "    discrete_list = []\n",
    "    continuous_list = []\n",
    "    \n",
    "    for col in df:\n",
    "        \n",
    "        if (df[col].nunique() < (customer_df_num['income'].nunique()/10)) & (df[col].dtypes == 'int64'):\n",
    "            discrete_list.append(col)\n",
    "        \n",
    "        else:\n",
    "            continuous_list.append(col)\n",
    "    \n",
    "    \n",
    "    discrete_df = pd.DataFrame(customer_df_num[discrete_list])\n",
    "    continuous_df = pd.DataFrame(customer_df_num[continuous_list]) \n",
    "                    \n",
    "\n",
    "    return discrete_df, continuous_df"
   ]
  },
  {
   "cell_type": "code",
   "execution_count": 7,
   "id": "1c523a97",
   "metadata": {},
   "outputs": [],
   "source": [
    "discrete_customer, continuous_customer = continuous(customer_df_num)"
   ]
  },
  {
   "cell_type": "markdown",
   "id": "ac8a8243",
   "metadata": {},
   "source": [
    "### Find all of the categorical data. Save it in a categorical_df variable.\n"
   ]
  },
  {
   "cell_type": "code",
   "execution_count": 8,
   "id": "8699d447",
   "metadata": {},
   "outputs": [
    {
     "data": {
      "text/html": [
       "<div>\n",
       "<style scoped>\n",
       "    .dataframe tbody tr th:only-of-type {\n",
       "        vertical-align: middle;\n",
       "    }\n",
       "\n",
       "    .dataframe tbody tr th {\n",
       "        vertical-align: top;\n",
       "    }\n",
       "\n",
       "    .dataframe thead th {\n",
       "        text-align: right;\n",
       "    }\n",
       "</style>\n",
       "<table border=\"1\" class=\"dataframe\">\n",
       "  <thead>\n",
       "    <tr style=\"text-align: right;\">\n",
       "      <th></th>\n",
       "      <th>customer</th>\n",
       "      <th>state</th>\n",
       "      <th>response</th>\n",
       "      <th>coverage</th>\n",
       "      <th>education</th>\n",
       "      <th>effective_to_date</th>\n",
       "      <th>employmentstatus</th>\n",
       "      <th>gender</th>\n",
       "      <th>location_code</th>\n",
       "      <th>marital_status</th>\n",
       "      <th>policy_type</th>\n",
       "      <th>policy</th>\n",
       "      <th>renew_offer_type</th>\n",
       "      <th>sales_channel</th>\n",
       "      <th>vehicle_class</th>\n",
       "      <th>vehicle_size</th>\n",
       "    </tr>\n",
       "  </thead>\n",
       "  <tbody>\n",
       "    <tr>\n",
       "      <th>0</th>\n",
       "      <td>BU79786</td>\n",
       "      <td>Washington</td>\n",
       "      <td>No</td>\n",
       "      <td>Basic</td>\n",
       "      <td>Bachelor</td>\n",
       "      <td>2/24/11</td>\n",
       "      <td>Employed</td>\n",
       "      <td>F</td>\n",
       "      <td>Suburban</td>\n",
       "      <td>Married</td>\n",
       "      <td>Corporate Auto</td>\n",
       "      <td>Corporate L3</td>\n",
       "      <td>Offer1</td>\n",
       "      <td>Agent</td>\n",
       "      <td>Two-Door Car</td>\n",
       "      <td>Medsize</td>\n",
       "    </tr>\n",
       "    <tr>\n",
       "      <th>1</th>\n",
       "      <td>QZ44356</td>\n",
       "      <td>Arizona</td>\n",
       "      <td>No</td>\n",
       "      <td>Extended</td>\n",
       "      <td>Bachelor</td>\n",
       "      <td>1/31/11</td>\n",
       "      <td>Unemployed</td>\n",
       "      <td>F</td>\n",
       "      <td>Suburban</td>\n",
       "      <td>Single</td>\n",
       "      <td>Personal Auto</td>\n",
       "      <td>Personal L3</td>\n",
       "      <td>Offer3</td>\n",
       "      <td>Agent</td>\n",
       "      <td>Four-Door Car</td>\n",
       "      <td>Medsize</td>\n",
       "    </tr>\n",
       "    <tr>\n",
       "      <th>2</th>\n",
       "      <td>AI49188</td>\n",
       "      <td>Nevada</td>\n",
       "      <td>No</td>\n",
       "      <td>Premium</td>\n",
       "      <td>Bachelor</td>\n",
       "      <td>2/19/11</td>\n",
       "      <td>Employed</td>\n",
       "      <td>F</td>\n",
       "      <td>Suburban</td>\n",
       "      <td>Married</td>\n",
       "      <td>Personal Auto</td>\n",
       "      <td>Personal L3</td>\n",
       "      <td>Offer1</td>\n",
       "      <td>Agent</td>\n",
       "      <td>Two-Door Car</td>\n",
       "      <td>Medsize</td>\n",
       "    </tr>\n",
       "    <tr>\n",
       "      <th>3</th>\n",
       "      <td>WW63253</td>\n",
       "      <td>California</td>\n",
       "      <td>No</td>\n",
       "      <td>Basic</td>\n",
       "      <td>Bachelor</td>\n",
       "      <td>1/20/11</td>\n",
       "      <td>Unemployed</td>\n",
       "      <td>M</td>\n",
       "      <td>Suburban</td>\n",
       "      <td>Married</td>\n",
       "      <td>Corporate Auto</td>\n",
       "      <td>Corporate L2</td>\n",
       "      <td>Offer1</td>\n",
       "      <td>Call Center</td>\n",
       "      <td>SUV</td>\n",
       "      <td>Medsize</td>\n",
       "    </tr>\n",
       "    <tr>\n",
       "      <th>4</th>\n",
       "      <td>HB64268</td>\n",
       "      <td>Washington</td>\n",
       "      <td>No</td>\n",
       "      <td>Basic</td>\n",
       "      <td>Bachelor</td>\n",
       "      <td>2/3/11</td>\n",
       "      <td>Employed</td>\n",
       "      <td>M</td>\n",
       "      <td>Rural</td>\n",
       "      <td>Single</td>\n",
       "      <td>Personal Auto</td>\n",
       "      <td>Personal L1</td>\n",
       "      <td>Offer1</td>\n",
       "      <td>Agent</td>\n",
       "      <td>Four-Door Car</td>\n",
       "      <td>Medsize</td>\n",
       "    </tr>\n",
       "  </tbody>\n",
       "</table>\n",
       "</div>"
      ],
      "text/plain": [
       "  customer       state response  coverage education effective_to_date  \\\n",
       "0  BU79786  Washington       No     Basic  Bachelor           2/24/11   \n",
       "1  QZ44356     Arizona       No  Extended  Bachelor           1/31/11   \n",
       "2  AI49188      Nevada       No   Premium  Bachelor           2/19/11   \n",
       "3  WW63253  California       No     Basic  Bachelor           1/20/11   \n",
       "4  HB64268  Washington       No     Basic  Bachelor            2/3/11   \n",
       "\n",
       "  employmentstatus gender location_code marital_status     policy_type  \\\n",
       "0         Employed      F      Suburban        Married  Corporate Auto   \n",
       "1       Unemployed      F      Suburban         Single   Personal Auto   \n",
       "2         Employed      F      Suburban        Married   Personal Auto   \n",
       "3       Unemployed      M      Suburban        Married  Corporate Auto   \n",
       "4         Employed      M         Rural         Single   Personal Auto   \n",
       "\n",
       "         policy renew_offer_type sales_channel  vehicle_class vehicle_size  \n",
       "0  Corporate L3           Offer1         Agent   Two-Door Car      Medsize  \n",
       "1   Personal L3           Offer3         Agent  Four-Door Car      Medsize  \n",
       "2   Personal L3           Offer1         Agent   Two-Door Car      Medsize  \n",
       "3  Corporate L2           Offer1   Call Center            SUV      Medsize  \n",
       "4   Personal L1           Offer1         Agent  Four-Door Car      Medsize  "
      ]
     },
     "execution_count": 8,
     "metadata": {},
     "output_type": "execute_result"
    }
   ],
   "source": [
    "categorical_df = customer_df.select_dtypes(object).copy()\n",
    "categorical_df.head()"
   ]
  },
  {
   "cell_type": "markdown",
   "id": "5f949d9a",
   "metadata": {},
   "source": [
    "\n",
    "### Check for NaN values.\n"
   ]
  },
  {
   "cell_type": "code",
   "execution_count": 9,
   "id": "86845b08",
   "metadata": {},
   "outputs": [
    {
     "data": {
      "text/plain": [
       "customer             0\n",
       "state                0\n",
       "response             0\n",
       "coverage             0\n",
       "education            0\n",
       "effective_to_date    0\n",
       "employmentstatus     0\n",
       "gender               0\n",
       "location_code        0\n",
       "marital_status       0\n",
       "policy_type          0\n",
       "policy               0\n",
       "renew_offer_type     0\n",
       "sales_channel        0\n",
       "vehicle_class        0\n",
       "vehicle_size         0\n",
       "dtype: int64"
      ]
     },
     "execution_count": 9,
     "metadata": {},
     "output_type": "execute_result"
    }
   ],
   "source": [
    "categorical_df.isna().sum()"
   ]
  },
  {
   "cell_type": "markdown",
   "id": "31b9a0db",
   "metadata": {},
   "source": [
    "\n",
    "### Check all unique values of columns.\n"
   ]
  },
  {
   "cell_type": "code",
   "execution_count": 10,
   "id": "236457cc",
   "metadata": {},
   "outputs": [],
   "source": [
    "def uniques(df):\n",
    "    for col in df:\n",
    "        print(df[col].unique())"
   ]
  },
  {
   "cell_type": "code",
   "execution_count": 11,
   "id": "a4050d2f",
   "metadata": {},
   "outputs": [
    {
     "name": "stdout",
     "output_type": "stream",
     "text": [
      "['BU79786' 'QZ44356' 'AI49188' ... 'TD14365' 'UP19263' 'Y167826']\n",
      "['Washington' 'Arizona' 'Nevada' 'California' 'Oregon']\n",
      "['No' 'Yes']\n",
      "['Basic' 'Extended' 'Premium']\n",
      "['Bachelor' 'College' 'Master' 'High School or Below' 'Doctor']\n",
      "['2/24/11' '1/31/11' '2/19/11' '1/20/11' '2/3/11' '1/25/11' '1/18/11'\n",
      " '1/26/11' '2/17/11' '2/21/11' '1/6/11' '2/6/11' '1/10/11' '1/17/11'\n",
      " '1/5/11' '2/27/11' '1/14/11' '1/21/11' '2/5/11' '1/29/11' '2/28/11'\n",
      " '2/12/11' '2/2/11' '2/7/11' '1/22/11' '2/13/11' '1/15/11' '1/8/11'\n",
      " '1/11/11' '1/28/11' '2/8/11' '2/23/11' '1/2/11' '2/16/11' '1/27/11'\n",
      " '1/23/11' '1/9/11' '2/11/11' '2/4/11' '2/1/11' '2/15/11' '2/26/11'\n",
      " '1/16/11' '1/1/11' '2/10/11' '1/24/11' '2/25/11' '1/12/11' '2/9/11'\n",
      " '1/19/11' '1/4/11' '2/14/11' '2/20/11' '2/18/11' '1/3/11' '1/13/11'\n",
      " '1/30/11' '2/22/11' '1/7/11']\n",
      "['Employed' 'Unemployed' 'Medical Leave' 'Disabled' 'Retired']\n",
      "['F' 'M']\n",
      "['Suburban' 'Rural' 'Urban']\n",
      "['Married' 'Single' 'Divorced']\n",
      "['Corporate Auto' 'Personal Auto' 'Special Auto']\n",
      "['Corporate L3' 'Personal L3' 'Corporate L2' 'Personal L1' 'Special L2'\n",
      " 'Corporate L1' 'Personal L2' 'Special L1' 'Special L3']\n",
      "['Offer1' 'Offer3' 'Offer2' 'Offer4']\n",
      "['Agent' 'Call Center' 'Web' 'Branch']\n",
      "['Two-Door Car' 'Four-Door Car' 'SUV' 'Luxury SUV' 'Sports Car'\n",
      " 'Luxury Car']\n",
      "['Medsize' 'Small' 'Large']\n"
     ]
    }
   ],
   "source": [
    "uniques(categorical_df)"
   ]
  },
  {
   "cell_type": "markdown",
   "id": "de9c53d2",
   "metadata": {},
   "source": [
    "\n",
    "### Check dtypes. Do they all make sense as categorical data?\n"
   ]
  },
  {
   "cell_type": "code",
   "execution_count": 12,
   "id": "e44b795c",
   "metadata": {},
   "outputs": [
    {
     "data": {
      "text/plain": [
       "customer             object\n",
       "state                object\n",
       "response             object\n",
       "coverage             object\n",
       "education            object\n",
       "effective_to_date    object\n",
       "employmentstatus     object\n",
       "gender               object\n",
       "location_code        object\n",
       "marital_status       object\n",
       "policy_type          object\n",
       "policy               object\n",
       "renew_offer_type     object\n",
       "sales_channel        object\n",
       "vehicle_class        object\n",
       "vehicle_size         object\n",
       "dtype: object"
      ]
     },
     "execution_count": 12,
     "metadata": {},
     "output_type": "execute_result"
    }
   ],
   "source": [
    "categorical_df.dtypes"
   ]
  },
  {
   "cell_type": "markdown",
   "id": "08da137b",
   "metadata": {},
   "source": [
    "Effective to date does not make sense as an object, it should be changed to a datetime format. The customer column is technically categorical but it doesn't give us any usefull information so we think we should drop it. "
   ]
  },
  {
   "cell_type": "code",
   "execution_count": 13,
   "id": "58c3d340",
   "metadata": {},
   "outputs": [],
   "source": [
    "categorical_df['effective_to_date'] = pd.to_datetime(customer_df['effective_to_date'])"
   ]
  },
  {
   "cell_type": "markdown",
   "id": "54c7e389",
   "metadata": {},
   "source": [
    "\n",
    "### Does any column contain alpha and numeric data? Decide how to clean it.\n"
   ]
  },
  {
   "cell_type": "markdown",
   "id": "7444298e",
   "metadata": {},
   "source": [
    "We are dropping the customer column, and then we are removing the alpha part from policy and offer type. "
   ]
  },
  {
   "cell_type": "code",
   "execution_count": 14,
   "id": "b1a8cdb6",
   "metadata": {},
   "outputs": [],
   "source": [
    "categorical_df.drop(['customer'], axis = 1, inplace = True)"
   ]
  },
  {
   "cell_type": "code",
   "execution_count": 15,
   "id": "87f97b74",
   "metadata": {},
   "outputs": [],
   "source": [
    "def alphac(x):\n",
    "    if 'Corporate L' in x:\n",
    "        return x.replace('Corporate L', '')\n",
    "    elif 'Personal L' in x:\n",
    "        return x.replace('Personal L', '')\n",
    "    elif 'Special L' in x:\n",
    "        return x.replace('Special L', '')\n",
    "    else:\n",
    "        return x"
   ]
  },
  {
   "cell_type": "code",
   "execution_count": 16,
   "id": "99aedfe4",
   "metadata": {},
   "outputs": [
    {
     "data": {
      "text/plain": [
       "array(['3', '2', '1'], dtype=object)"
      ]
     },
     "execution_count": 16,
     "metadata": {},
     "output_type": "execute_result"
    }
   ],
   "source": [
    "categorical_df['policy'] = categorical_df['policy'].apply(alphac)\n",
    "categorical_df['policy'].unique()\n",
    "# We remove the alphabetical part because in the variable 'policy_type' we already see if it is Personal, Special or Corporate. "
   ]
  },
  {
   "cell_type": "code",
   "execution_count": 17,
   "id": "4f06df84",
   "metadata": {},
   "outputs": [],
   "source": [
    "def offer(x):\n",
    "    if 'Offer1' in x:\n",
    "        return '1'\n",
    "    elif 'Offer2' in x:\n",
    "        return '2'\n",
    "    elif 'Offer3' in x:\n",
    "        return '3'\n",
    "    else:\n",
    "        return '4'"
   ]
  },
  {
   "cell_type": "code",
   "execution_count": 18,
   "id": "158bad95",
   "metadata": {},
   "outputs": [
    {
     "data": {
      "text/plain": [
       "array(['1', '3', '2', '4'], dtype=object)"
      ]
     },
     "execution_count": 18,
     "metadata": {},
     "output_type": "execute_result"
    }
   ],
   "source": [
    "categorical_df['renew_offer_type'] = categorical_df['renew_offer_type'].apply(offer)\n",
    "categorical_df['renew_offer_type'].unique()"
   ]
  },
  {
   "cell_type": "markdown",
   "id": "b8988403",
   "metadata": {},
   "source": [
    "\n",
    "### Would you choose to do anything else to clean or wrangle the categorical data? Comment your decisions.\n"
   ]
  },
  {
   "cell_type": "code",
   "execution_count": 19,
   "id": "ff2c9bec",
   "metadata": {},
   "outputs": [
    {
     "data": {
      "text/html": [
       "<div>\n",
       "<style scoped>\n",
       "    .dataframe tbody tr th:only-of-type {\n",
       "        vertical-align: middle;\n",
       "    }\n",
       "\n",
       "    .dataframe tbody tr th {\n",
       "        vertical-align: top;\n",
       "    }\n",
       "\n",
       "    .dataframe thead th {\n",
       "        text-align: right;\n",
       "    }\n",
       "</style>\n",
       "<table border=\"1\" class=\"dataframe\">\n",
       "  <thead>\n",
       "    <tr style=\"text-align: right;\">\n",
       "      <th></th>\n",
       "      <th>state</th>\n",
       "      <th>response</th>\n",
       "      <th>coverage</th>\n",
       "      <th>education</th>\n",
       "      <th>effective_to_date</th>\n",
       "      <th>employmentstatus</th>\n",
       "      <th>gender</th>\n",
       "      <th>location_code</th>\n",
       "      <th>marital_status</th>\n",
       "      <th>policy_type</th>\n",
       "      <th>policy</th>\n",
       "      <th>renew_offer_type</th>\n",
       "      <th>sales_channel</th>\n",
       "      <th>vehicle_class</th>\n",
       "      <th>vehicle_size</th>\n",
       "    </tr>\n",
       "  </thead>\n",
       "  <tbody>\n",
       "    <tr>\n",
       "      <th>0</th>\n",
       "      <td>Washington</td>\n",
       "      <td>No</td>\n",
       "      <td>Basic</td>\n",
       "      <td>Bachelor</td>\n",
       "      <td>2011-02-24</td>\n",
       "      <td>Employed</td>\n",
       "      <td>F</td>\n",
       "      <td>Suburban</td>\n",
       "      <td>Married</td>\n",
       "      <td>Corporate Auto</td>\n",
       "      <td>3</td>\n",
       "      <td>1</td>\n",
       "      <td>Agent</td>\n",
       "      <td>Two-Door Car</td>\n",
       "      <td>Medsize</td>\n",
       "    </tr>\n",
       "    <tr>\n",
       "      <th>1</th>\n",
       "      <td>Arizona</td>\n",
       "      <td>No</td>\n",
       "      <td>Extended</td>\n",
       "      <td>Bachelor</td>\n",
       "      <td>2011-01-31</td>\n",
       "      <td>Unemployed</td>\n",
       "      <td>F</td>\n",
       "      <td>Suburban</td>\n",
       "      <td>Single</td>\n",
       "      <td>Personal Auto</td>\n",
       "      <td>3</td>\n",
       "      <td>3</td>\n",
       "      <td>Agent</td>\n",
       "      <td>Four-Door Car</td>\n",
       "      <td>Medsize</td>\n",
       "    </tr>\n",
       "    <tr>\n",
       "      <th>2</th>\n",
       "      <td>Nevada</td>\n",
       "      <td>No</td>\n",
       "      <td>Premium</td>\n",
       "      <td>Bachelor</td>\n",
       "      <td>2011-02-19</td>\n",
       "      <td>Employed</td>\n",
       "      <td>F</td>\n",
       "      <td>Suburban</td>\n",
       "      <td>Married</td>\n",
       "      <td>Personal Auto</td>\n",
       "      <td>3</td>\n",
       "      <td>1</td>\n",
       "      <td>Agent</td>\n",
       "      <td>Two-Door Car</td>\n",
       "      <td>Medsize</td>\n",
       "    </tr>\n",
       "    <tr>\n",
       "      <th>3</th>\n",
       "      <td>California</td>\n",
       "      <td>No</td>\n",
       "      <td>Basic</td>\n",
       "      <td>Bachelor</td>\n",
       "      <td>2011-01-20</td>\n",
       "      <td>Unemployed</td>\n",
       "      <td>M</td>\n",
       "      <td>Suburban</td>\n",
       "      <td>Married</td>\n",
       "      <td>Corporate Auto</td>\n",
       "      <td>2</td>\n",
       "      <td>1</td>\n",
       "      <td>Call Center</td>\n",
       "      <td>SUV</td>\n",
       "      <td>Medsize</td>\n",
       "    </tr>\n",
       "    <tr>\n",
       "      <th>4</th>\n",
       "      <td>Washington</td>\n",
       "      <td>No</td>\n",
       "      <td>Basic</td>\n",
       "      <td>Bachelor</td>\n",
       "      <td>2011-02-03</td>\n",
       "      <td>Employed</td>\n",
       "      <td>M</td>\n",
       "      <td>Rural</td>\n",
       "      <td>Single</td>\n",
       "      <td>Personal Auto</td>\n",
       "      <td>1</td>\n",
       "      <td>1</td>\n",
       "      <td>Agent</td>\n",
       "      <td>Four-Door Car</td>\n",
       "      <td>Medsize</td>\n",
       "    </tr>\n",
       "  </tbody>\n",
       "</table>\n",
       "</div>"
      ],
      "text/plain": [
       "        state response  coverage education effective_to_date employmentstatus  \\\n",
       "0  Washington       No     Basic  Bachelor        2011-02-24         Employed   \n",
       "1     Arizona       No  Extended  Bachelor        2011-01-31       Unemployed   \n",
       "2      Nevada       No   Premium  Bachelor        2011-02-19         Employed   \n",
       "3  California       No     Basic  Bachelor        2011-01-20       Unemployed   \n",
       "4  Washington       No     Basic  Bachelor        2011-02-03         Employed   \n",
       "\n",
       "  gender location_code marital_status     policy_type policy renew_offer_type  \\\n",
       "0      F      Suburban        Married  Corporate Auto      3                1   \n",
       "1      F      Suburban         Single   Personal Auto      3                3   \n",
       "2      F      Suburban        Married   Personal Auto      3                1   \n",
       "3      M      Suburban        Married  Corporate Auto      2                1   \n",
       "4      M         Rural         Single   Personal Auto      1                1   \n",
       "\n",
       "  sales_channel  vehicle_class vehicle_size  \n",
       "0         Agent   Two-Door Car      Medsize  \n",
       "1         Agent  Four-Door Car      Medsize  \n",
       "2         Agent   Two-Door Car      Medsize  \n",
       "3   Call Center            SUV      Medsize  \n",
       "4         Agent  Four-Door Car      Medsize  "
      ]
     },
     "execution_count": 19,
     "metadata": {},
     "output_type": "execute_result"
    }
   ],
   "source": [
    "categorical_df.head()"
   ]
  },
  {
   "cell_type": "markdown",
   "id": "ff6680d7",
   "metadata": {},
   "source": [
    "We think the data is now clean and it is not necessary to do anything else. "
   ]
  },
  {
   "cell_type": "markdown",
   "id": "8cfc01bd",
   "metadata": {},
   "source": [
    "\n",
    "### Compare policy_type and policy. What information is contained in these columns. Can you identify what is important?\n"
   ]
  },
  {
   "cell_type": "code",
   "execution_count": 20,
   "id": "8bbe652a",
   "metadata": {},
   "outputs": [],
   "source": [
    "categorical_df.rename(columns = {'policy': 'policy_level'}, inplace = True)"
   ]
  },
  {
   "cell_type": "code",
   "execution_count": 21,
   "id": "3f94840a",
   "metadata": {},
   "outputs": [
    {
     "data": {
      "text/html": [
       "<div>\n",
       "<style scoped>\n",
       "    .dataframe tbody tr th:only-of-type {\n",
       "        vertical-align: middle;\n",
       "    }\n",
       "\n",
       "    .dataframe tbody tr th {\n",
       "        vertical-align: top;\n",
       "    }\n",
       "\n",
       "    .dataframe thead th {\n",
       "        text-align: right;\n",
       "    }\n",
       "</style>\n",
       "<table border=\"1\" class=\"dataframe\">\n",
       "  <thead>\n",
       "    <tr style=\"text-align: right;\">\n",
       "      <th></th>\n",
       "      <th>policy_type</th>\n",
       "      <th>policy_level</th>\n",
       "    </tr>\n",
       "  </thead>\n",
       "  <tbody>\n",
       "    <tr>\n",
       "      <th>0</th>\n",
       "      <td>Corporate Auto</td>\n",
       "      <td>3</td>\n",
       "    </tr>\n",
       "    <tr>\n",
       "      <th>1</th>\n",
       "      <td>Personal Auto</td>\n",
       "      <td>3</td>\n",
       "    </tr>\n",
       "    <tr>\n",
       "      <th>2</th>\n",
       "      <td>Personal Auto</td>\n",
       "      <td>3</td>\n",
       "    </tr>\n",
       "    <tr>\n",
       "      <th>3</th>\n",
       "      <td>Corporate Auto</td>\n",
       "      <td>2</td>\n",
       "    </tr>\n",
       "    <tr>\n",
       "      <th>4</th>\n",
       "      <td>Personal Auto</td>\n",
       "      <td>1</td>\n",
       "    </tr>\n",
       "    <tr>\n",
       "      <th>...</th>\n",
       "      <td>...</td>\n",
       "      <td>...</td>\n",
       "    </tr>\n",
       "    <tr>\n",
       "      <th>9129</th>\n",
       "      <td>Personal Auto</td>\n",
       "      <td>1</td>\n",
       "    </tr>\n",
       "    <tr>\n",
       "      <th>9130</th>\n",
       "      <td>Corporate Auto</td>\n",
       "      <td>3</td>\n",
       "    </tr>\n",
       "    <tr>\n",
       "      <th>9131</th>\n",
       "      <td>Corporate Auto</td>\n",
       "      <td>2</td>\n",
       "    </tr>\n",
       "    <tr>\n",
       "      <th>9132</th>\n",
       "      <td>Personal Auto</td>\n",
       "      <td>2</td>\n",
       "    </tr>\n",
       "    <tr>\n",
       "      <th>9133</th>\n",
       "      <td>Corporate Auto</td>\n",
       "      <td>3</td>\n",
       "    </tr>\n",
       "  </tbody>\n",
       "</table>\n",
       "<p>9134 rows × 2 columns</p>\n",
       "</div>"
      ],
      "text/plain": [
       "         policy_type policy_level\n",
       "0     Corporate Auto            3\n",
       "1      Personal Auto            3\n",
       "2      Personal Auto            3\n",
       "3     Corporate Auto            2\n",
       "4      Personal Auto            1\n",
       "...              ...          ...\n",
       "9129   Personal Auto            1\n",
       "9130  Corporate Auto            3\n",
       "9131  Corporate Auto            2\n",
       "9132   Personal Auto            2\n",
       "9133  Corporate Auto            3\n",
       "\n",
       "[9134 rows x 2 columns]"
      ]
     },
     "execution_count": 21,
     "metadata": {},
     "output_type": "execute_result"
    }
   ],
   "source": [
    "categorical_df[['policy_type', 'policy_level']]"
   ]
  },
  {
   "cell_type": "markdown",
   "id": "7c645fe9",
   "metadata": {},
   "source": [
    "We previously edited the policy column so it only showed the level, because we already have the type (Personal, Corporate or Special) in the other column. We think that now it will be easier to encode. "
   ]
  },
  {
   "cell_type": "markdown",
   "id": "76e63c14",
   "metadata": {},
   "source": [
    "\n",
    "### Check number of unique values in each column, can they be combined in any way to ease encoding? Comment your thoughts and make those changes."
   ]
  },
  {
   "cell_type": "code",
   "execution_count": 22,
   "id": "2385f5cf",
   "metadata": {},
   "outputs": [
    {
     "name": "stdout",
     "output_type": "stream",
     "text": [
      "['Washington' 'Arizona' 'Nevada' 'California' 'Oregon']\n",
      "['No' 'Yes']\n",
      "['Basic' 'Extended' 'Premium']\n",
      "['Bachelor' 'College' 'Master' 'High School or Below' 'Doctor']\n",
      "['2011-02-24T00:00:00.000000000' '2011-01-31T00:00:00.000000000'\n",
      " '2011-02-19T00:00:00.000000000' '2011-01-20T00:00:00.000000000'\n",
      " '2011-02-03T00:00:00.000000000' '2011-01-25T00:00:00.000000000'\n",
      " '2011-01-18T00:00:00.000000000' '2011-01-26T00:00:00.000000000'\n",
      " '2011-02-17T00:00:00.000000000' '2011-02-21T00:00:00.000000000'\n",
      " '2011-01-06T00:00:00.000000000' '2011-02-06T00:00:00.000000000'\n",
      " '2011-01-10T00:00:00.000000000' '2011-01-17T00:00:00.000000000'\n",
      " '2011-01-05T00:00:00.000000000' '2011-02-27T00:00:00.000000000'\n",
      " '2011-01-14T00:00:00.000000000' '2011-01-21T00:00:00.000000000'\n",
      " '2011-02-05T00:00:00.000000000' '2011-01-29T00:00:00.000000000'\n",
      " '2011-02-28T00:00:00.000000000' '2011-02-12T00:00:00.000000000'\n",
      " '2011-02-02T00:00:00.000000000' '2011-02-07T00:00:00.000000000'\n",
      " '2011-01-22T00:00:00.000000000' '2011-02-13T00:00:00.000000000'\n",
      " '2011-01-15T00:00:00.000000000' '2011-01-08T00:00:00.000000000'\n",
      " '2011-01-11T00:00:00.000000000' '2011-01-28T00:00:00.000000000'\n",
      " '2011-02-08T00:00:00.000000000' '2011-02-23T00:00:00.000000000'\n",
      " '2011-01-02T00:00:00.000000000' '2011-02-16T00:00:00.000000000'\n",
      " '2011-01-27T00:00:00.000000000' '2011-01-23T00:00:00.000000000'\n",
      " '2011-01-09T00:00:00.000000000' '2011-02-11T00:00:00.000000000'\n",
      " '2011-02-04T00:00:00.000000000' '2011-02-01T00:00:00.000000000'\n",
      " '2011-02-15T00:00:00.000000000' '2011-02-26T00:00:00.000000000'\n",
      " '2011-01-16T00:00:00.000000000' '2011-01-01T00:00:00.000000000'\n",
      " '2011-02-10T00:00:00.000000000' '2011-01-24T00:00:00.000000000'\n",
      " '2011-02-25T00:00:00.000000000' '2011-01-12T00:00:00.000000000'\n",
      " '2011-02-09T00:00:00.000000000' '2011-01-19T00:00:00.000000000'\n",
      " '2011-01-04T00:00:00.000000000' '2011-02-14T00:00:00.000000000'\n",
      " '2011-02-20T00:00:00.000000000' '2011-02-18T00:00:00.000000000'\n",
      " '2011-01-03T00:00:00.000000000' '2011-01-13T00:00:00.000000000'\n",
      " '2011-01-30T00:00:00.000000000' '2011-02-22T00:00:00.000000000'\n",
      " '2011-01-07T00:00:00.000000000']\n",
      "['Employed' 'Unemployed' 'Medical Leave' 'Disabled' 'Retired']\n",
      "['F' 'M']\n",
      "['Suburban' 'Rural' 'Urban']\n",
      "['Married' 'Single' 'Divorced']\n",
      "['Corporate Auto' 'Personal Auto' 'Special Auto']\n",
      "['3' '2' '1']\n",
      "['1' '3' '2' '4']\n",
      "['Agent' 'Call Center' 'Web' 'Branch']\n",
      "['Two-Door Car' 'Four-Door Car' 'SUV' 'Luxury SUV' 'Sports Car'\n",
      " 'Luxury Car']\n",
      "['Medsize' 'Small' 'Large']\n"
     ]
    }
   ],
   "source": [
    "uniques(categorical_df)"
   ]
  },
  {
   "cell_type": "code",
   "execution_count": 23,
   "id": "a67e9656",
   "metadata": {},
   "outputs": [
    {
     "name": "stdout",
     "output_type": "stream",
     "text": [
      "California    3150\n",
      "Oregon        2601\n",
      "Arizona       1703\n",
      "Nevada         882\n",
      "Washington     798\n",
      "Name: state, dtype: int64\n",
      "No     7826\n",
      "Yes    1308\n",
      "Name: response, dtype: int64\n",
      "Basic       5568\n",
      "Extended    2742\n",
      "Premium      824\n",
      "Name: coverage, dtype: int64\n",
      "Bachelor                2748\n",
      "College                 2681\n",
      "High School or Below    2622\n",
      "Master                   741\n",
      "Doctor                   342\n",
      "Name: education, dtype: int64\n",
      "2011-01-10    195\n",
      "2011-01-27    194\n",
      "2011-02-14    186\n",
      "2011-01-26    181\n",
      "2011-01-17    180\n",
      "2011-01-19    179\n",
      "2011-01-31    178\n",
      "2011-01-03    178\n",
      "2011-01-20    173\n",
      "2011-02-26    169\n",
      "2011-01-28    169\n",
      "2011-02-19    168\n",
      "2011-01-05    167\n",
      "2011-02-27    167\n",
      "2011-01-11    166\n",
      "2011-02-04    164\n",
      "2011-02-10    161\n",
      "2011-02-28    161\n",
      "2011-01-02    160\n",
      "2011-01-21    160\n",
      "2011-01-29    160\n",
      "2011-02-22    158\n",
      "2011-02-05    158\n",
      "2011-02-03    158\n",
      "2011-02-07    157\n",
      "2011-02-12    156\n",
      "2011-01-23    155\n",
      "2011-02-01    154\n",
      "2011-01-18    154\n",
      "2011-01-15    153\n",
      "2011-01-14    152\n",
      "2011-02-11    151\n",
      "2011-01-07    151\n",
      "2011-01-25    151\n",
      "2011-02-25    149\n",
      "2011-01-08    149\n",
      "2011-02-18    149\n",
      "2011-02-02    149\n",
      "2011-01-01    148\n",
      "2011-02-21    148\n",
      "2011-01-24    147\n",
      "2011-01-09    146\n",
      "2011-01-30    145\n",
      "2011-01-13    145\n",
      "2011-02-06    144\n",
      "2011-01-06    143\n",
      "2011-02-23    143\n",
      "2011-01-16    142\n",
      "2011-02-16    139\n",
      "2011-02-13    139\n",
      "2011-02-24    139\n",
      "2011-02-09    137\n",
      "2011-02-17    136\n",
      "2011-01-22    136\n",
      "2011-02-08    134\n",
      "2011-02-20    132\n",
      "2011-02-15    130\n",
      "2011-01-12    126\n",
      "2011-01-04    115\n",
      "Name: effective_to_date, dtype: int64\n",
      "Employed         5698\n",
      "Unemployed       2317\n",
      "Medical Leave     432\n",
      "Disabled          405\n",
      "Retired           282\n",
      "Name: employmentstatus, dtype: int64\n",
      "F    4658\n",
      "M    4476\n",
      "Name: gender, dtype: int64\n",
      "Suburban    5779\n",
      "Rural       1773\n",
      "Urban       1582\n",
      "Name: location_code, dtype: int64\n",
      "Married     5298\n",
      "Single      2467\n",
      "Divorced    1369\n",
      "Name: marital_status, dtype: int64\n",
      "Personal Auto     6788\n",
      "Corporate Auto    1968\n",
      "Special Auto       378\n",
      "Name: policy_type, dtype: int64\n",
      "3    4588\n",
      "2    2881\n",
      "1    1665\n",
      "Name: policy_level, dtype: int64\n",
      "1    3752\n",
      "2    2926\n",
      "3    1432\n",
      "4    1024\n",
      "Name: renew_offer_type, dtype: int64\n",
      "Agent          3477\n",
      "Branch         2567\n",
      "Call Center    1765\n",
      "Web            1325\n",
      "Name: sales_channel, dtype: int64\n",
      "Four-Door Car    4621\n",
      "Two-Door Car     1886\n",
      "SUV              1796\n",
      "Sports Car        484\n",
      "Luxury SUV        184\n",
      "Luxury Car        163\n",
      "Name: vehicle_class, dtype: int64\n",
      "Medsize    6424\n",
      "Small      1764\n",
      "Large       946\n",
      "Name: vehicle_size, dtype: int64\n"
     ]
    }
   ],
   "source": [
    "def counts(df):\n",
    "    for col in df:\n",
    "        print(df[col].value_counts())\n",
    "\n",
    "counts(categorical_df)"
   ]
  },
  {
   "cell_type": "code",
   "execution_count": 24,
   "id": "1c42c45a",
   "metadata": {},
   "outputs": [
    {
     "data": {
      "text/plain": [
       "Four-Door Car    4621\n",
       "Two-Door Car     1886\n",
       "SUV              1796\n",
       "Sports Car        484\n",
       "Luxury            347\n",
       "Name: vehicle_class, dtype: int64"
      ]
     },
     "execution_count": 24,
     "metadata": {},
     "output_type": "execute_result"
    }
   ],
   "source": [
    "categorical_df['vehicle_class'] = np.where(categorical_df['vehicle_class'] == 'Luxury SUV', 'Luxury Car', categorical_df['vehicle_class'])\n",
    "categorical_df['vehicle_class'] = categorical_df['vehicle_class'].str.replace('Luxury Car','Luxury')\n",
    "categorical_df['vehicle_class'].value_counts()"
   ]
  },
  {
   "cell_type": "code",
   "execution_count": 25,
   "id": "9a8a1797",
   "metadata": {},
   "outputs": [],
   "source": [
    "categorical_df.drop(['vehicle_size'], axis = 1, inplace = True)"
   ]
  },
  {
   "cell_type": "markdown",
   "id": "8b037178",
   "metadata": {},
   "source": [
    "Since the value count for Luxury Car and Luxury SUV is so low compared with the others, I have decided to merge them. I don't think the fact that the car is an SUV or not matters in the total claim amount, but the car being a luxury brand surely does. "
   ]
  },
  {
   "cell_type": "markdown",
   "id": "f847642d",
   "metadata": {},
   "source": [
    "# Today's Lab"
   ]
  },
  {
   "cell_type": "markdown",
   "id": "8ce9cb84",
   "metadata": {},
   "source": [
    "### We will start with removing outliers, if you have not already done so. We have discussed different methods to remove outliers. Use the one you feel more comfortable with, define a function for that. Use the function to remove the outliers and apply it to the dataframe."
   ]
  },
  {
   "cell_type": "code",
   "execution_count": 26,
   "id": "1a0274f8",
   "metadata": {},
   "outputs": [],
   "source": [
    "discrete_customer_n = discrete_customer['number_of_open_complaints']\n",
    "discrete_customer_d = discrete_customer.drop(['number_of_open_complaints'], axis = 1)"
   ]
  },
  {
   "cell_type": "code",
   "execution_count": 27,
   "id": "03b2224a",
   "metadata": {},
   "outputs": [],
   "source": [
    "def outliers(df):\n",
    "\n",
    "    for column in df:\n",
    "        upper = np.percentile(df[column],75)\n",
    "        lower = np.percentile(df[column],25)\n",
    "        iqr = upper - lower\n",
    "        upper_limit = upper + 1.5 * iqr\n",
    "        lower_limit = lower - 1.5 * iqr\n",
    "        cleaned_df = df[(df[column]>lower_limit) & (df[column]<upper_limit)]\n",
    "    return cleaned_df"
   ]
  },
  {
   "cell_type": "code",
   "execution_count": 28,
   "id": "4b657543",
   "metadata": {},
   "outputs": [],
   "source": [
    "discrete_customer_d = outliers(discrete_customer)\n",
    "continuous_customer = outliers(continuous_customer)"
   ]
  },
  {
   "cell_type": "markdown",
   "id": "15671b50",
   "metadata": {},
   "source": [
    "### The time variable can be useful. Try to transform its data into a useful one. Hint: Day week and month as integers might be useful."
   ]
  },
  {
   "cell_type": "code",
   "execution_count": 29,
   "id": "1d31b727",
   "metadata": {},
   "outputs": [],
   "source": [
    "customer_df['day'] = pd.to_datetime(customer_df['effective_to_date']).dt.day\n",
    "customer_df['month'] = pd.to_datetime(customer_df['effective_to_date']).dt.month\n",
    "customer_df['year'] = pd.to_datetime(customer_df['effective_to_date']).dt.year\n",
    "date = customer_df[['day', 'month', 'year']]"
   ]
  },
  {
   "cell_type": "code",
   "execution_count": 30,
   "id": "9c909c7b",
   "metadata": {
    "scrolled": true
   },
   "outputs": [
    {
     "data": {
      "text/plain": [
       "(8283, 26)"
      ]
     },
     "execution_count": 30,
     "metadata": {},
     "output_type": "execute_result"
    }
   ],
   "source": [
    "total = pd.concat([categorical_df, discrete_customer_d, discrete_customer_n, continuous_customer, date], axis = 1)\n",
    "total.dropna(axis = 0, inplace = True)\n",
    "total.shape"
   ]
  },
  {
   "cell_type": "code",
   "execution_count": 31,
   "id": "2b0b3486",
   "metadata": {},
   "outputs": [],
   "source": [
    "total['coverage'] = total['coverage'].map({\"Basic\" : 0, \"Extended\" : 1, \"Premium\" : 2})"
   ]
  },
  {
   "cell_type": "markdown",
   "id": "3b1317bb",
   "metadata": {},
   "source": [
    "### Create a copy of the dataframe for the data wrangling."
   ]
  },
  {
   "cell_type": "code",
   "execution_count": 32,
   "id": "ecad6e49",
   "metadata": {},
   "outputs": [],
   "source": [
    "total_data = total.copy()"
   ]
  },
  {
   "cell_type": "markdown",
   "id": "a167d644",
   "metadata": {},
   "source": [
    "### In this final lab, we will model our data. Import sklearn train_test_split and separate the data."
   ]
  },
  {
   "cell_type": "code",
   "execution_count": 33,
   "id": "1d5b171d",
   "metadata": {},
   "outputs": [],
   "source": [
    "from sklearn.model_selection import train_test_split"
   ]
  },
  {
   "cell_type": "code",
   "execution_count": 34,
   "id": "775b04ab",
   "metadata": {},
   "outputs": [],
   "source": [
    "y = total_data['total_claim_amount']\n",
    "X = total_data.drop(['total_claim_amount'], axis = 1)"
   ]
  },
  {
   "cell_type": "code",
   "execution_count": 35,
   "id": "6cda5f8a",
   "metadata": {},
   "outputs": [],
   "source": [
    "X_train, X_test, y_train, y_test = train_test_split(X,y)\n",
    "\n",
    "numericals_train = X_train.select_dtypes(np.number)\n",
    "numericals_test = X_test.select_dtypes(np.number)\n",
    "\n",
    "categoricals_train= X_train.select_dtypes(object)\n",
    "categoricals_test= X_test.select_dtypes(object)"
   ]
  },
  {
   "cell_type": "markdown",
   "id": "48f635ec",
   "metadata": {},
   "source": [
    "### Normalize the continuous variables. You can use any one method you want."
   ]
  },
  {
   "cell_type": "code",
   "execution_count": 36,
   "id": "f4fe71a0",
   "metadata": {},
   "outputs": [],
   "source": [
    "from sklearn.preprocessing import MinMaxScaler\n",
    "\n",
    "transformer = MinMaxScaler().fit(numericals_train)\n",
    "numericals_train_standardized = transformer.transform(numericals_train)\n",
    "numericals_test_standardized = transformer.transform(numericals_test)"
   ]
  },
  {
   "cell_type": "markdown",
   "id": "0113de78",
   "metadata": {},
   "source": [
    "### Encode the categorical variables (See the hint below for encoding categorical data!!!)"
   ]
  },
  {
   "cell_type": "code",
   "execution_count": 37,
   "id": "64515645",
   "metadata": {},
   "outputs": [
    {
     "data": {
      "text/plain": [
       "Employed         3975\n",
       "Unemployed       1496\n",
       "Medical Leave     284\n",
       "Disabled          266\n",
       "Retired           191\n",
       "Name: employmentstatus, dtype: int64"
      ]
     },
     "execution_count": 37,
     "metadata": {},
     "output_type": "execute_result"
    }
   ],
   "source": [
    "categoricals_train['employmentstatus'].value_counts()"
   ]
  },
  {
   "cell_type": "code",
   "execution_count": 38,
   "id": "88eedba0",
   "metadata": {},
   "outputs": [
    {
     "data": {
      "text/plain": [
       "Suburban    3794\n",
       "Rural       1274\n",
       "Urban       1144\n",
       "Name: location_code, dtype: int64"
      ]
     },
     "execution_count": 38,
     "metadata": {},
     "output_type": "execute_result"
    }
   ],
   "source": [
    "categoricals_train['location_code'].value_counts()"
   ]
  },
  {
   "cell_type": "code",
   "execution_count": 39,
   "id": "c3e5d1df",
   "metadata": {},
   "outputs": [],
   "source": [
    "from sklearn.preprocessing import OneHotEncoder\n",
    "\n",
    "encoder = OneHotEncoder(handle_unknown='error', drop='first').fit(categoricals_train)\n",
    "categoricals_train_encoded = encoder.transform(categoricals_train).toarray()\n",
    "categoricals_test_encoded = encoder.transform(categoricals_test).toarray()"
   ]
  },
  {
   "cell_type": "code",
   "execution_count": 40,
   "id": "70e7eadb",
   "metadata": {},
   "outputs": [],
   "source": [
    "X_train = np.concatenate((numericals_train_standardized, categoricals_train_encoded),axis=1)\n",
    "X_test = np.concatenate((numericals_test_standardized, categoricals_test_encoded),axis=1)"
   ]
  },
  {
   "cell_type": "markdown",
   "id": "ddbee8b3",
   "metadata": {},
   "source": [
    "### Since the model will only accept numerical data, check and make sure that every column is numerical, if some are not, change it using encoding."
   ]
  },
  {
   "cell_type": "code",
   "execution_count": 41,
   "id": "ff3ca82a",
   "metadata": {},
   "outputs": [
    {
     "data": {
      "text/plain": [
       "dtype('float64')"
      ]
     },
     "execution_count": 41,
     "metadata": {},
     "output_type": "execute_result"
    }
   ],
   "source": [
    "X_train.dtype"
   ]
  },
  {
   "cell_type": "code",
   "execution_count": 42,
   "id": "9c20be4f",
   "metadata": {},
   "outputs": [
    {
     "data": {
      "text/plain": [
       "dtype('float64')"
      ]
     },
     "execution_count": 42,
     "metadata": {},
     "output_type": "execute_result"
    }
   ],
   "source": [
    "X_test.dtype"
   ]
  },
  {
   "cell_type": "markdown",
   "id": "99f3fbd1",
   "metadata": {},
   "source": [
    "### Try a simple linear regression with all the data to see whether we are getting good results."
   ]
  },
  {
   "cell_type": "code",
   "execution_count": 43,
   "id": "df80fb41",
   "metadata": {},
   "outputs": [
    {
     "data": {
      "text/plain": [
       "0.7937939291836547"
      ]
     },
     "execution_count": 43,
     "metadata": {},
     "output_type": "execute_result"
    }
   ],
   "source": [
    "from sklearn.linear_model import LinearRegression\n",
    "\n",
    "LR = LinearRegression().fit(X_train,y_train)\n",
    "\n",
    "score = LR.score(X_test, y_test)\n",
    "\n",
    "y_pred = LR.predict(X_test)\n",
    "\n",
    "score"
   ]
  },
  {
   "cell_type": "markdown",
   "id": "24a6df6b",
   "metadata": {},
   "source": [
    "### Great! Now define a function that takes a list of models and train (and tests) them so we can try a lot of them without repeating code."
   ]
  },
  {
   "cell_type": "code",
   "execution_count": 44,
   "id": "628d9230",
   "metadata": {},
   "outputs": [],
   "source": [
    "from sklearn.neighbors import KNeighborsClassifier, KNeighborsRegressor\n",
    "from sklearn.neural_network import MLPRegressor"
   ]
  },
  {
   "cell_type": "code",
   "execution_count": 45,
   "id": "9e1b22e3",
   "metadata": {},
   "outputs": [],
   "source": [
    "def model(X_train, X_test, y_train, y_test):\n",
    "    \n",
    "    LR = LinearRegression()\n",
    "    KNN = KNeighborsRegressor(n_neighbors=6)\n",
    "    MLP = MLPRegressor()\n",
    "    \n",
    "    model_list = [LR, KNN, MLP]\n",
    "    \n",
    "    for i in model_list:\n",
    "        \n",
    "        i.fit(X_train,y_train)\n",
    "        score = i.score(X_test, y_test)\n",
    "        print(i, 'model:', score)"
   ]
  },
  {
   "cell_type": "markdown",
   "id": "cb7fcaf0",
   "metadata": {},
   "source": [
    "### Use the function to check `LinearRegressor` and `KNeighborsRegressor`."
   ]
  },
  {
   "cell_type": "markdown",
   "id": "83bb67a8",
   "metadata": {},
   "source": [
    "### You can check also the MLPRegressor for this task!"
   ]
  },
  {
   "cell_type": "code",
   "execution_count": 52,
   "id": "92902d38",
   "metadata": {},
   "outputs": [
    {
     "name": "stdout",
     "output_type": "stream",
     "text": [
      "LinearRegression() model: 0.7937939291836547\n",
      "KNeighborsRegressor(n_neighbors=6) model: 0.5818492909967742\n",
      "MLPRegressor() model: 0.8092008434224144\n"
     ]
    },
    {
     "name": "stderr",
     "output_type": "stream",
     "text": [
      "C:\\Users\\herat\\anaconda3\\lib\\site-packages\\sklearn\\neural_network\\_multilayer_perceptron.py:692: ConvergenceWarning: Stochastic Optimizer: Maximum iterations (200) reached and the optimization hasn't converged yet.\n",
      "  warnings.warn(\n"
     ]
    }
   ],
   "source": [
    "model(X_train, X_test, y_train, y_test)"
   ]
  },
  {
   "cell_type": "markdown",
   "id": "9eb86e0b",
   "metadata": {},
   "source": [
    "### Check and discuss the results."
   ]
  },
  {
   "cell_type": "markdown",
   "id": "7a32d733",
   "metadata": {},
   "source": [
    "The k-neighbors model doesn't work as well as the linear regression in this case, but the MLP is a little bit better. "
   ]
  }
 ],
 "metadata": {
  "kernelspec": {
   "display_name": "Python 3 (ipykernel)",
   "language": "python",
   "name": "python3"
  },
  "language_info": {
   "codemirror_mode": {
    "name": "ipython",
    "version": 3
   },
   "file_extension": ".py",
   "mimetype": "text/x-python",
   "name": "python",
   "nbconvert_exporter": "python",
   "pygments_lexer": "ipython3",
   "version": "3.9.7"
  }
 },
 "nbformat": 4,
 "nbformat_minor": 5
}
